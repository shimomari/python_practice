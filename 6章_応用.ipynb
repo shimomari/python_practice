{
  "nbformat": 4,
  "nbformat_minor": 0,
  "metadata": {
    "colab": {
      "provenance": [],
      "toc_visible": true,
      "authorship_tag": "ABX9TyOG8E8qmKlDEDNfzLSj8Luw",
      "include_colab_link": true
    },
    "kernelspec": {
      "name": "python3",
      "display_name": "Python 3"
    },
    "language_info": {
      "name": "python"
    }
  },
  "cells": [
    {
      "cell_type": "markdown",
      "metadata": {
        "id": "view-in-github",
        "colab_type": "text"
      },
      "source": [
        "<a href=\"https://colab.research.google.com/github/shimomari/python_practice/blob/main/6%E7%AB%A0_%E5%BF%9C%E7%94%A8.ipynb\" target=\"_parent\"><img src=\"https://colab.research.google.com/assets/colab-badge.svg\" alt=\"Open In Colab\"/></a>"
      ]
    },
    {
      "cell_type": "code",
      "source": [
        "!pip install requests"
      ],
      "metadata": {
        "id": "IhnwVQvHMh0V"
      },
      "execution_count": null,
      "outputs": []
    },
    {
      "cell_type": "code",
      "source": [
        "import requests\n",
        "import pprint\n",
        "from getpass import getpass"
      ],
      "metadata": {
        "id": "js3xksGCMw11"
      },
      "execution_count": null,
      "outputs": []
    },
    {
      "cell_type": "code",
      "source": [
        "# APIキーを指定\n",
        "api_key = getpass('APIキーを入力してください: ')"
      ],
      "metadata": {
        "id": "SfhcjbyMM2Lc"
      },
      "execution_count": null,
      "outputs": []
    },
    {
      "cell_type": "code",
      "source": [
        "# 検索キーワードを変数search_wordに格納\n",
        "search_word = input('検索キーワードを入力してください: ')"
      ],
      "metadata": {
        "id": "1bUtrDTt-Gh2"
      },
      "execution_count": null,
      "outputs": []
    },
    {
      "cell_type": "code",
      "source": [
        "# YouTube Data APIのURL（動画検索用）\n",
        "url = 'https://www.googleapis.com/youtube/v3/search'\n",
        "\n",
        "# データを取得\n",
        "response = requests.get(\n",
        "    url,\n",
        "    params={\n",
        "        'key': api_key,  # APIキーをパラメータに追加\n",
        "        'part': 'snippet',  # 動画情報の詳細を指定\n",
        "        'q': search_word,  # 検索キーワードをパラメータに追加\n",
        "        'type': 'video',  # 動画のみを検索対象に指定\n",
        "        'maxResults': 10  # 取得する動画の最大数を指定\n",
        "    }\n",
        ")"
      ],
      "metadata": {
        "id": "9TZI86HR-Q2W"
      },
      "execution_count": null,
      "outputs": []
    },
    {
      "cell_type": "code",
      "source": [
        "# レスポンスのJSONを取得\n",
        "json_data = response.json()\n",
        "\n",
        "# JSONの中身を確認\n",
        "pprint.pprint(json_data)"
      ],
      "metadata": {
        "id": "vtZxjmKw-gxK"
      },
      "execution_count": null,
      "outputs": []
    },
    {
      "cell_type": "code",
      "source": [
        "# 取得した動画のタイトルとURLを表示\n",
        "for item in json_data['items']:\n",
        "  video_title = item['snippet']['title']\n",
        "  video_url = f'https://www.youtube.com/watch?v={item[\"id\"][\"videoId\"]}'\n",
        "  print(f'{video_title}: {video_url}')"
      ],
      "metadata": {
        "id": "-062OtxR-tp3"
      },
      "execution_count": null,
      "outputs": []
    }
  ]
}